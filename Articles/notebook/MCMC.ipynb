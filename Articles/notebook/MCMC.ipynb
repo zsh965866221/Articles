{
 "cells": [
  {
   "cell_type": "markdown",
   "metadata": {},
   "source": [
    "# MCMC"
   ]
  },
  {
   "cell_type": "markdown",
   "metadata": {},
   "source": [
    "## 拒绝采样"
   ]
  },
  {
   "cell_type": "code",
   "execution_count": 1,
   "metadata": {},
   "outputs": [],
   "source": [
    "%matplotlib inline\n",
    "import numpy as np\n",
    "from matplotlib import pyplot as plt"
   ]
  },
  {
   "cell_type": "code",
   "execution_count": 2,
   "metadata": {},
   "outputs": [],
   "source": [
    "size = 10**4\n",
    "mean = 1.4\n",
    "sigma = 1.2\n",
    "k = 3"
   ]
  },
  {
   "cell_type": "code",
   "execution_count": 3,
   "metadata": {},
   "outputs": [],
   "source": [
    "z = np.random.normal(loc=mean, scale=sigma, size=size)\n",
    "qz = 1/(np.sqrt(2*np.pi)*sigma**2) * np.exp(-0.5*(z-mean)**2 / sigma**2)"
   ]
  },
  {
   "cell_type": "code",
   "execution_count": 4,
   "metadata": {},
   "outputs": [],
   "source": [
    "u = np.random.uniform(low=0, high=k*qz, size=size)"
   ]
  },
  {
   "cell_type": "code",
   "execution_count": 5,
   "metadata": {},
   "outputs": [],
   "source": [
    "pz = 0.3*np.exp(-(z-0.3)**2) + 0.7*np.exp(-(z-2.)**2/0.3)"
   ]
  },
  {
   "cell_type": "code",
   "execution_count": 6,
   "metadata": {},
   "outputs": [],
   "source": [
    "sample = z[u <= pz]"
   ]
  },
  {
   "cell_type": "code",
   "execution_count": 7,
   "metadata": {},
   "outputs": [
    {
     "data": {
      "image/png": "[encoded data removed]",
      "text/plain": [
       "<Figure size 432x288 with 1 Axes>"
      ]
     },
     "metadata": {},
     "output_type": "display_data"
    }
   ],
   "source": [
    "bins = plt.hist(sample, bins=150,density=True,range=(-2, 4))"
   ]
  },
  {
   "cell_type": "markdown",
   "metadata": {},
   "source": [
    "## MCMC"
   ]
  },
  {
   "cell_type": "code",
   "execution_count": 8,
   "metadata": {},
   "outputs": [],
   "source": [
    "def p(x):\n",
    "    return 0.3*np.exp(-(x-0.3)**2) + 0.7*np.exp(-(x-2.)**2/0.3)"
   ]
  },
  {
   "cell_type": "code",
   "execution_count": 9,
   "metadata": {},
   "outputs": [],
   "source": [
    "def q(y, x): # q(y|x)\n",
    "#     return 1/(np.sqrt(2*np.pi)*1.2**2) * np.exp(-0.5*(y-1.4)**2/1.2**2)\n",
    "    return 1/(5.-(-2.5))\n",
    "def sample_q(x):\n",
    "#     return np.random.normal(loc=1.4, scale=1.2)\n",
    "    return np.random.uniform(low=-2.5, high=5.)"
   ]
  },
  {
   "cell_type": "code",
   "execution_count": 10,
   "metadata": {},
   "outputs": [],
   "source": [
    "def mcmc(p, q, sample_q, size):\n",
    "    res = []\n",
    "    it = 0\n",
    "    x = 0.\n",
    "    ti = 0\n",
    "    while it<size:\n",
    "        y = sample_q(x)\n",
    "        u = np.random.uniform(low=0, high=1)\n",
    "        if u<=p(y)*q(x, y):\n",
    "            x = y\n",
    "            it += 1\n",
    "            res.append(x)\n",
    "        ti += 1\n",
    "    return np.array(res), ti"
   ]
  },
  {
   "cell_type": "code",
   "execution_count": 11,
   "metadata": {},
   "outputs": [],
   "source": [
    "x = np.linspace(-2, 4, 10000) \n",
    "y = p(x)"
   ]
  },
  {
   "cell_type": "code",
   "execution_count": 21,
   "metadata": {},
   "outputs": [
    {
     "data": {
      "text/plain": [
       "[<matplotlib.lines.Line2D at 0x22bcb13bdd8>]"
      ]
     },
     "execution_count": 21,
     "metadata": {},
     "output_type": "execute_result"
    },
    {
     "data": {
      "image/png": "[encoded data removed]",
      "text/plain": [
       "<Figure size 432x288 with 1 Axes>"
      ]
     },
     "metadata": {},
     "output_type": "display_data"
    }
   ],
   "source": [
    "res, ti = mcmc(p, q, sample_q, 10**4)\n",
    "bins = plt.hist(res[1000:], bins=150,density=True,range=(-2.5, 5))\n",
    "plt.plot(x, y)"
   ]
  },
  {
   "cell_type": "code",
   "execution_count": 13,
   "metadata": {},
   "outputs": [
    {
     "data": {
      "text/plain": [
       "460782"
      ]
     },
     "execution_count": 13,
     "metadata": {},
     "output_type": "execute_result"
    }
   ],
   "source": [
    "ti"
   ]
  },
  {
   "cell_type": "code",
   "execution_count": 22,
   "metadata": {},
   "outputs": [],
   "source": [
    "def Metropolis_Hastings(p, q, sample_q, size):\n",
    "    res = []\n",
    "    it = 0\n",
    "    x = 0.\n",
    "    ti = 0\n",
    "    while it<size:\n",
    "        y = sample_q(x)\n",
    "        u = np.random.uniform(low=0, high=1)\n",
    "        if u<=min(p(y)*q(x, y)/(p(x)*q(y, x)), 1):\n",
    "            x = y\n",
    "            it += 1\n",
    "            res.append(x)\n",
    "        ti += 1\n",
    "    return np.array(res), ti"
   ]
  },
  {
   "cell_type": "code",
   "execution_count": 23,
   "metadata": {},
   "outputs": [
    {
     "data": {
      "text/plain": [
       "[<matplotlib.lines.Line2D at 0x22bcbb29b38>]"
      ]
     },
     "execution_count": 23,
     "metadata": {},
     "output_type": "execute_result"
    },
    {
     "data": {
      "image/png": "[encoded data removed]",
      "text/plain": [
       "<Figure size 432x288 with 1 Axes>"
      ]
     },
     "metadata": {},
     "output_type": "display_data"
    }
   ],
   "source": [
    "res, ti = Metropolis_Hastings(p, q, sample_q, 10**4)\n",
    "bins = plt.hist(res[1000:], bins=200,density=True)\n",
    "plt.plot(x, y)"
   ]
  },
  {
   "cell_type": "code",
   "execution_count": 16,
   "metadata": {},
   "outputs": [
    {
     "data": {
      "text/plain": [
       "27244"
      ]
     },
     "execution_count": 16,
     "metadata": {},
     "output_type": "execute_result"
    }
   ],
   "source": [
    "ti"
   ]
  },
  {
   "cell_type": "code",
   "execution_count": null,
   "metadata": {},
   "outputs": [],
   "source": []
  }
 ],
 "metadata": {
  "kernelspec": {
   "display_name": "Python 3",
   "language": "python",
   "name": "python3"
  },
  "language_info": {
   "codemirror_mode": {
    "name": "ipython",
    "version": 3
   },
   "file_extension": ".py",
   "mimetype": "text/x-python",
   "name": "python",
   "nbconvert_exporter": "python",
   "pygments_lexer": "ipython3",
   "version": "3.6.5"
  }
 },
 "nbformat": 4,
 "nbformat_minor": 2
}
