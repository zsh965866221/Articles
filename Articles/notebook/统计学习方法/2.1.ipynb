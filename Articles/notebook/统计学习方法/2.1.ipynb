{
 "cells": [
  {
   "cell_type": "code",
   "execution_count": 1,
   "metadata": {},
   "outputs": [],
   "source": [
    "%matplotlib inline\n",
    "import numpy as np\n",
    "from matplotlib import pyplot as plt"
   ]
  },
  {
   "cell_type": "code",
   "execution_count": 2,
   "metadata": {},
   "outputs": [],
   "source": [
    "epsilon = 1e-5"
   ]
  },
  {
   "cell_type": "markdown",
   "metadata": {},
   "source": [
    "# 感知机"
   ]
  },
  {
   "cell_type": "markdown",
   "metadata": {},
   "source": [
    "输入空间$\\mathcal{X}\\in \\mathbf{R}^n$，输出空间$\\mathcal{Y}\\in \\{+1,-1\\}$，映射如下\n",
    "$$f(x) = \\text{sign}(w\\cdot x+b)$$\n",
    "有一点需要注意的是**感知机假设数据集是线性可分的**，也就是会有一个分割超平面会把数据集完全正确的分隔开\n",
    "\n",
    "输入空间中一点$x_0$到超平面的距离为\n",
    "$$\\frac{|w\\cdot x_0 + b|}{\\|w\\|}$$\n",
    "由于在超平面下的分类结果为\n",
    "$$\n",
    "y_i = \\left\\{\\begin{matrix}\n",
    "+1 & w\\cdot x_i +b > 0 \\\\ \n",
    "-1 & w\\cdot x_i +b < 0\n",
    "\\end{matrix}\\right.\n",
    "$$\n",
    "误分类点可判定为$-y_i(w\\cdot x_i +b)>0$\n",
    "损失函数设定为误分类点的集合为$M$到超平面的总距离为，\n",
    "$$\n",
    "\\sum_{x_i\\in M}\\frac{-y_i(w\\cdot x_i +b)}{\\|w\\|}\n",
    "$$\n",
    "不考虑$\\frac{1}{\\|w\\|}$，损失函数为\n",
    "$$\n",
    "L(w,b) = -\\sum_{x_i\\in M}y_i(w\\cdot x_i+b)\n",
    "$$\n",
    "最小化需要对其求梯度\n",
    "$$\n",
    "\\nabla_wL(w,b) = -\\sum_{x_i\\in M}y_ix_i \\\\\n",
    "\\nabla_bL(w,b) = -\\sum_{x_i\\in M}y_i\n",
    "$$\n",
    "\n",
    "进行梯度下降的时候需要注意，每次只选取一个误分类点$(x_i,y_i)$进行梯度下降\n",
    "$$\n",
    "w \\leftarrow w+\\eta y_ix_i \\\\\n",
    "b \\leftarrow b + \\eta y_i\n",
    "$$\n",
    "\n",
    "**如果原始数据集线性不可分，会陷入无限循环**"
   ]
  },
  {
   "cell_type": "code",
   "execution_count": 3,
   "metadata": {},
   "outputs": [],
   "source": [
    "def perceptron(X, Y, eta):\n",
    "    w = np.zeros(X.shape[1])\n",
    "    b = 0\n",
    "    M = []\n",
    "    def get_M():\n",
    "        M.clear()\n",
    "        for index, (x, y) in enumerate(zip(X, Y)):\n",
    "            if y*(np.dot(w, x) + b) <= 0:\n",
    "                M.append(index)\n",
    "        return M\n",
    "    while len(get_M()) > 0:\n",
    "        i = np.random.choice(M)\n",
    "        x, y = X[i], Y[i]\n",
    "        w = w + eta * y * x\n",
    "        b = b + eta * y\n",
    "    return w, b"
   ]
  },
  {
   "cell_type": "markdown",
   "metadata": {},
   "source": [
    "### 例2.1"
   ]
  },
  {
   "cell_type": "code",
   "execution_count": 21,
   "metadata": {},
   "outputs": [
    {
     "data": {
      "text/plain": [
       "(array([1., 1.]), -3)"
      ]
     },
     "execution_count": 21,
     "metadata": {},
     "output_type": "execute_result"
    }
   ],
   "source": [
    "## 例2.1\n",
    "X = np.array([[3,3],[4,3],[1,1]])\n",
    "Y = np.array([1, 1, -1])\n",
    "w, b = perceptron(X, Y, 1)\n",
    "w, b"
   ]
  },
  {
   "cell_type": "code",
   "execution_count": 22,
   "metadata": {},
   "outputs": [
    {
     "data": {
      "text/plain": [
       "[0, 6, 0, 6]"
      ]
     },
     "execution_count": 22,
     "metadata": {},
     "output_type": "execute_result"
    },
    {
     "data": {
      "image/png": "[encoded data removed]",
      "text/plain": [
       "<Figure size 432x288 with 1 Axes>"
      ]
     },
     "metadata": {},
     "output_type": "display_data"
    }
   ],
   "source": [
    "postive_X = X[np.where(Y>0)]\n",
    "plt.plot(postive_X[:,0], postive_X[:,1], 'ro')\n",
    "negative_X = X[np.where(Y<0)]\n",
    "plt.plot(negative_X[:,0], negative_X[:,1], 'bo')\n",
    "aX = np.arange(0, 6, 0.1)\n",
    "aY = (-b - w[0]*aX)/(w[1]+epsilon)\n",
    "plt.plot(aX, aY)\n",
    "plt.axis([0,6, 0, 6])"
   ]
  },
  {
   "cell_type": "code",
   "execution_count": null,
   "metadata": {},
   "outputs": [],
   "source": []
  }
 ],
 "metadata": {
  "kernelspec": {
   "display_name": "Python 3",
   "language": "python",
   "name": "python3"
  },
  "language_info": {
   "codemirror_mode": {
    "name": "ipython",
    "version": 3
   },
   "file_extension": ".py",
   "mimetype": "text/x-python",
   "name": "python",
   "nbconvert_exporter": "python",
   "pygments_lexer": "ipython3",
   "version": "3.6.5"
  }
 },
 "nbformat": 4,
 "nbformat_minor": 2
}
