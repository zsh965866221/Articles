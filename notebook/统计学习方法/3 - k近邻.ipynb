{
 "cells": [
  {
   "cell_type": "code",
   "execution_count": 1,
   "metadata": {},
   "outputs": [],
   "source": [
    "%matplotlib inline\n",
    "import numpy as np\n",
    "from matplotlib import pyplot as plt\n",
    "epsilon = 1e-5"
   ]
  },
  {
   "cell_type": "code",
   "execution_count": 2,
   "metadata": {},
   "outputs": [],
   "source": [
    "import pydot\n",
    "from IPython.display import Image, display\n",
    "\n",
    "def viewPydot(pdot):\n",
    "    plt = Image(pdot.create_png())\n",
    "    display(plt)"
   ]
  },
  {
   "cell_type": "markdown",
   "metadata": {},
   "source": [
    "# $k$近邻"
   ]
  },
  {
   "cell_type": "code",
   "execution_count": 3,
   "metadata": {},
   "outputs": [],
   "source": [
    "def kNN(x, X, Y, k, p): # y [0, N-1]\n",
    "    m,n = X.shape\n",
    "    class_N = np.max(Y) + 1\n",
    "    diffs = np.abs(np.tile(x, (m, 1)) - X)\n",
    "    if p is np.inf:\n",
    "        diss = np.max(diffs, axis=1)\n",
    "    else:\n",
    "        diss = np.power(np.sum(np.power(diffs, p), axis=1), 1./p)\n",
    "    args = np.argsort(diss)[:k]\n",
    "    countY = np.zeros(class_N)\n",
    "    for index in args:\n",
    "        countY[index] = countY[index] + 1\n",
    "    return np.argmax(countY)"
   ]
  },
  {
   "cell_type": "markdown",
   "metadata": {},
   "source": [
    "### 例3.1"
   ]
  },
  {
   "cell_type": "code",
   "execution_count": 4,
   "metadata": {},
   "outputs": [],
   "source": [
    "X = np.array([\n",
    "    [5,1],\n",
    "    [4,4],\n",
    "])\n",
    "Y = np.array([\n",
    "    [0],\n",
    "    [1],\n",
    "])"
   ]
  },
  {
   "cell_type": "code",
   "execution_count": 5,
   "metadata": {},
   "outputs": [
    {
     "name": "stdout",
     "output_type": "stream",
     "text": [
      "1 -> 0\n",
      "2 -> 0\n",
      "3 -> 1\n",
      "4 -> 1\n",
      "5 -> 1\n"
     ]
    }
   ],
   "source": [
    "for i in range(1,6):\n",
    "    print(\"%d -> %d\"%(i, kNN(x=np.array([1,1]), X=X, Y=Y, k=1, p=i)))"
   ]
  },
  {
   "cell_type": "markdown",
   "metadata": {},
   "source": [
    "#### 最近邻性能分析\n",
    "《西瓜书$P_{226}$》给出了最近邻的性能分析，这里只是只是表示最近邻（用距离最近的训练样本的类别作为输入的类别）\n",
    "\n",
    "> 在**大样本**（独立同分布，且样本量无穷）下最近邻规则的泛化错误率不超过贝叶斯最优分类器（所有概率关系已知）的错误率的两倍\n",
    "\n",
    "测试样本为$x$，其最近邻样本为$z$，则最近邻分类器出错的概率为$z$的标记与$x$不同的概率\n",
    "$$\n",
    "r(x) = 1 - \\sum_{c\\in \\mathcal{Y}}P(c \\mid x)P(c\\mid z)\n",
    "$$\n",
    "这里的概率均是在所有概率已知的情况下的分析，泛化错误率，则贝叶斯最优分类器的结果为\n",
    "$$\n",
    "c^* = \\underset{c\\in\\mathcal{Y}}{\\arg\\max}P(c\\mid x)\n",
    "$$\n",
    "对应的错误率为\n",
    "$$\n",
    "r^*(x) = 1 - P(c^*\\mid x)\n",
    "$$\n",
    "\n",
    "由于样本符合独立同分布且有无限的样本，所以对任意的$x$和任意小正整数$\\delta$，在$x$附近$\\delta$范围内总能找到一个训练样本；换成人话就是，在无限样本且符合独立同分布下，样本$x$与其近邻$z$无限靠近，故\n",
    "$$\n",
    "\\begin{split}\n",
    "r(x) & = 1- \\sum_{c\\in\\mathcal{Y}}P(c\\mid x)P(c\\mid z) \\\\\n",
    "    & \\approx 1 - \\sum_{c\\in\\mathcal{Y}}P^2(c\\mid x) \\quad //\\text{$x$与$z$无限靠近} \\\\\n",
    "    & \\le 1 - P^2(c^*\\mid x) \\quad //\\text{$c^*\\in \\mathcal{Y}$} \\\\ \n",
    "    & = (1 + P(c^* \\mid x))(1-P(c^*\\mid x)) \\\\\n",
    "    & \\le 2(1 - P(c^*\\mid x)) \\\\\n",
    "    & = 2r^*(x)\n",
    "\\end{split}\n",
    "$$"
   ]
  },
  {
   "cell_type": "markdown",
   "metadata": {},
   "source": [
    "还有个关于最近邻的不等式，是《西瓜书》习题上的，是上面不等式的细化，设R为在整个n个样本集中的错误率的期望$R = E[r(x)]$\n",
    "> $$R^* \\le R \\le R^*(2-\\frac{|\\mathcal{Y}|}{|\\mathcal{Y}|-1})$$\n",
    "\n",
    "整理$r(x)$\n",
    "$$\n",
    "\\begin{split}\n",
    "r(x) & \\approx 1 - \\sum_{c\\in \\mathcal{Y}}P^2(c\\mid x) \\\\\n",
    "    & = 1 - P^2(c^*\\mid x) - \\sum_{c\\neq c^*}P^2(c\\mid x) \\\\\n",
    "\\end{split}\n",
    "$$\n",
    "由柯西-施瓦茨不等式得到\n",
    "$$\n",
    "\\left( \\sum_{i=1}^N a_ib_i \\right)^2 \\le \\left( \\sum_{i=1}^N a_i^2 \\right)\\left( \\sum_{i=1}^N b_i^2 \\right) \\\\\n",
    "\\left( \\sum_{i=1}^N a_i \\right)^2 \\le \\left( \\sum_{i=1^N} a_i^2 \\right) \\cdot N\n",
    "$$\n",
    "可以得到\n",
    "$$\n",
    "\\begin{split}\n",
    "\\sum_{c\\neq c^*}P^2(c\\mid x) & \\geq \\frac{1}{|\\mathcal{Y}|-1} \\left( \\sum_{c\\neq c^*}P(c\\mid x) \\right)^2 \\\\\n",
    "    & = \\frac{1}{|\\mathcal{Y}|-1} \\left( 1-P(c^*\\mid x) \\right)^2 \\\\\n",
    "    & = \\frac{1}{|\\mathcal{Y}|-1}{r^*}^2(x)\n",
    "\\end{split}\n",
    "$$\n",
    "最后有\n",
    "$$\n",
    "\\begin{split}\n",
    "r(x) & \\approx 1 - \\sum_{c\\in \\mathcal{Y}}P^2(c\\mid x) \\\\\n",
    "    & = 1 - P^2(c^*\\mid x) - \\sum_{c\\neq c^*}P^2(c\\mid x) \\\\\n",
    "    & \\le 1 - (1 - r^*(x))^2 - \\frac{1}{|\\mathcal{Y}|-1}{r^*}^2(x) \\\\\n",
    "    & = 2r*(x) - \\frac{|\\mathcal{Y}|}{|\\mathcal{Y}-1|}{r^*}^2(x)\n",
    "\\end{split}\n",
    "$$\n",
    "则对所有数据集\n",
    "$$\n",
    "\\begin{split}\n",
    "R & = E[r(x)] \\\\\n",
    "    & \\le 2E[r^*(x)] - \\frac{|\\mathcal{Y}|}{|\\mathcal{Y}-1|}E[{r^*}^2(x)] \\\\\n",
    "    & = 2E[r^*(x)] - \\frac{|\\mathcal{Y}|}{|\\mathcal{Y}-1|}\\Big(\\mathrm{Var}[{r^*}(x)] + E^2[{r^*}(x)]\\Big) \\\\\n",
    "    & \\le 2E[r^*(x)] - \\frac{|\\mathcal{Y}|}{|\\mathcal{Y}-1|}E^2[{r^*}(x)] \\\\\n",
    "    & = 2R^* - \\frac{|\\mathcal{Y}|}{|\\mathcal{Y}-1|}{R^*}^2\n",
    "\\end{split}\n",
    "$$"
   ]
  },
  {
   "cell_type": "markdown",
   "metadata": {},
   "source": [
    "## kd树"
   ]
  },
  {
   "cell_type": "code",
   "execution_count": 6,
   "metadata": {},
   "outputs": [],
   "source": [
    "A = np.array([\n",
    "    [2,3],\n",
    "    [5,4],\n",
    "    [9,6],\n",
    "    [4,7],\n",
    "    [8,1],\n",
    "    [7,2]\n",
    "])"
   ]
  },
  {
   "cell_type": "code",
   "execution_count": 7,
   "metadata": {},
   "outputs": [],
   "source": [
    "def D(X):\n",
    "    return np.mean(np.power(X - np.mean(X,axis=0), 2), axis=0)"
   ]
  },
  {
   "cell_type": "code",
   "execution_count": 8,
   "metadata": {},
   "outputs": [],
   "source": [
    "class Node(object):\n",
    "    def __init__(self, p=None, dim=None, lc=None, rc=None):\n",
    "        self.p = p\n",
    "        self.dim = dim\n",
    "        self. lc = lc\n",
    "        self.rc = rc\n",
    "        self.visited = False"
   ]
  },
  {
   "cell_type": "code",
   "execution_count": 9,
   "metadata": {},
   "outputs": [],
   "source": [
    "def kd_Tree(X):\n",
    "    if(len(X) == 0):\n",
    "        return None;\n",
    "    N = X.shape[0]\n",
    "    ## 选择需要划分的维度\n",
    "    Ds = D(X)\n",
    "    dim = np.argmax(Ds)\n",
    "    X = np.array(sorted(X, key=lambda x:x[dim]))\n",
    "    root = Node()\n",
    "    root.p = X[int(N/2)]\n",
    "    root.dim = dim\n",
    "    root.lc = kd_Tree(X[:int(N/2)])\n",
    "    root.rc = kd_Tree(X[int(N/2)+1:])\n",
    "    return root"
   ]
  },
  {
   "cell_type": "markdown",
   "metadata": {},
   "source": [
    "### 搜索\n",
    "搜索也很简单，首先按照二分的方法搜索找到最优的候选叶子节点，然后向上回溯，查看父节点的未访问到的节点是否有小于候选节点与目标节点距离，小于则更新候选节点\n",
    "判断目标节点到该轴的距离是否小于最小距离"
   ]
  },
  {
   "cell_type": "code",
   "execution_count": 10,
   "metadata": {},
   "outputs": [],
   "source": [
    "def kd_search(root, x):\n",
    "    global min_dis\n",
    "    global min_node\n",
    "    min_dis = np.inf\n",
    "    min_node = None\n",
    "    def _search(t): ## 递归\n",
    "        global min_dis\n",
    "        global min_node\n",
    "        if ((x[t.dim] < t.p[t.dim]) & (t.lc is None)) | ((x[t.dim] >= t.p[t.dim]) & (t.rc is None)):  ## 叶子节点，二分查找的最优候选节点\n",
    "            dis = np.sqrt(np.sum(np.power(t.p - x, 2)))\n",
    "            if dis <= min_dis:\n",
    "                min_dis = dis\n",
    "                min_node = t.p\n",
    "            t.visited = True\n",
    "            return\n",
    "        else:\n",
    "            if x[t.dim] < t.p[t.dim]:\n",
    "                _search(t.lc)\n",
    "            else:\n",
    "                _search(t.rc)\n",
    "        if np.abs(x[t.dim] - t.p[t.dim]) >= min_dis:\n",
    "            t.visited = True\n",
    "        else:\n",
    "            if x[t.dim] > t.p[t.dim]:\n",
    "                _search(t.rc)\n",
    "            else:\n",
    "                _search(t.lc)\n",
    "        dis = np.sqrt(np.sum(np.power(t.p - x, 2)))\n",
    "        if dis <= min_dis:\n",
    "            min_dis = dis\n",
    "            min_node = t.p\n",
    "        t.visited = True\n",
    "    _search(root)\n",
    "    return min_node, min_dis"
   ]
  },
  {
   "cell_type": "code",
   "execution_count": 11,
   "metadata": {},
   "outputs": [],
   "source": [
    "tree = kd_Tree(A)"
   ]
  },
  {
   "cell_type": "code",
   "execution_count": 12,
   "metadata": {},
   "outputs": [
    {
     "data": {
      "text/plain": [
       "(array([5, 4]), 1.4142135623730951)"
      ]
     },
     "execution_count": 12,
     "metadata": {},
     "output_type": "execute_result"
    }
   ],
   "source": [
    "kd_search(tree, np.array([4,3]))"
   ]
  },
  {
   "cell_type": "code",
   "execution_count": 13,
   "metadata": {},
   "outputs": [],
   "source": [
    "dot = pydot.Dot()\n",
    "global level\n",
    "level = 1\n",
    "def create_dot(p):\n",
    "    global level\n",
    "    p_name = \"%d # %d, %s\" % (level, p.dim, str(p.p))\n",
    "    dot.add_node(pydot.Node(name=p_name))\n",
    "    if p.lc is not None:\n",
    "        level = level + 1\n",
    "        c = p.lc\n",
    "        c_name = \"%d # %d, %s\" % (level, c.dim, str(c.p))\n",
    "        dot.add_edge(pydot.Edge(dst=c_name, src=p_name))\n",
    "        create_dot(c)\n",
    "        level = level -1\n",
    "    if p.rc is not None:\n",
    "        level = level + 1\n",
    "        c = p.rc\n",
    "        c_name = \"%d # %d, %s\" % (level, c.dim, str(c.p))\n",
    "        dot.add_edge(pydot.Edge(dst=c_name, src=p_name))\n",
    "        create_dot(c)\n",
    "        level = level -1\n",
    "        "
   ]
  },
  {
   "cell_type": "code",
   "execution_count": 14,
   "metadata": {},
   "outputs": [
    {
     "data": {
      "image/png": "[encoded data removed]",
      "text/plain": [
       "<IPython.core.display.Image object>"
      ]
     },
     "metadata": {},
     "output_type": "display_data"
    }
   ],
   "source": [
    "create_dot(tree)\n",
    "viewPydot(dot)"
   ]
  },
  {
   "cell_type": "code",
   "execution_count": null,
   "metadata": {},
   "outputs": [],
   "source": []
  }
 ],
 "metadata": {
  "kernelspec": {
   "display_name": "Python 3",
   "language": "python",
   "name": "python3"
  },
  "language_info": {
   "codemirror_mode": {
    "name": "ipython",
    "version": 3
   },
   "file_extension": ".py",
   "mimetype": "text/x-python",
   "name": "python",
   "nbconvert_exporter": "python",
   "pygments_lexer": "ipython3",
   "version": "3.6.5"
  }
 },
 "nbformat": 4,
 "nbformat_minor": 2
}
