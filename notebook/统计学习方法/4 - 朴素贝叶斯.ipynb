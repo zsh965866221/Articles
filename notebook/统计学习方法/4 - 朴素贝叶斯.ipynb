{
 "cells": [
  {
   "cell_type": "code",
   "execution_count": 1,
   "metadata": {},
   "outputs": [],
   "source": [
    "%matplotlib inline\n",
    "import numpy as np\n",
    "from matplotlib import pyplot as plt\n",
    "epsilon = 1e-5"
   ]
  },
  {
   "cell_type": "markdown",
   "metadata": {},
   "source": [
    "# 4 - 朴素贝叶斯\n",
    "\n",
    "首先要注意的非常重要的一点是，**朴素贝叶斯方法是生成方法**，需要首先根据训练数据学习到联合概率分布$P(X,Y)$，然后需要注意的一点是**朴素贝叶斯的后验概率最大等价于0-1损失函数时的期望风险最小化**\n",
    "\n",
    "朴素贝叶斯建立在一个条件独立性假设（在相同y值的条件下，x的所有属性相互独立）\n",
    "$$\n",
    "\\begin{split}\n",
    "P(X=x\\mid Y = c_k) & = P(X^{(1)}=x^{(1)},\\cdots, X^{(n)}=x^{(n)} \\mid Y=c_k) \\\\\n",
    "    & = \\prod_{j=1}^nP(X^{(j)}=x^{(j)} \\mid Y = c_k)\n",
    "\\end{split}\n",
    "$$\n",
    "然后根据贝叶斯公式得到后验概率\n",
    "$$\n",
    "\\begin{split}\n",
    "P(Y=c_k\\mid X=x) & = \\frac{P(X=x\\mid Y=c_k)P(Y=c_k)}{\\sum_k P(X=x\\mid Y=c_k)P(Y=c_k)} \\\\\n",
    "    & = \\frac{P(Y=c_k)\\prod_jP(X^{(j)}=x^{(j)}\\mid Y=c_k)}{\\sum_k P(Y=c_k)\\prod_jP(X^{(j)}=x^{(j)}\\mid Y=c_k)}\n",
    "\\end{split}\n",
    "$$\n",
    "则\n",
    "$$\n",
    "y = \\arg\\underset{c_k}{\\max}P(Y=c_k)\\prod_jP(X^{(j)}=x^{(j)}\\mid Y=c_k)\n",
    "$$\n",
    "我感觉引入贝叶斯并且加上了条件独立性假设的目的是，减少统计时候的参数空间大小，就像书上说的\n",
    "> 条件概率分布$P(X=x\\mid Y=c_k)$有**指数级数量的参数**，其估计实际是不可行的。事实上，假设$x^{(j)}$可取有$S_j$个，$j=1,2,\\cdots,n$，$Y$可取值有$K$个，那么参数个数为$K\\prod_{j=1}^n S_j$\n",
    "\n",
    "其实其中所有的有统计直接得到的概率，其实都是由极大似然得到的，只不过都是离散的分布"
   ]
  },
  {
   "cell_type": "code",
   "execution_count": 2,
   "metadata": {},
   "outputs": [],
   "source": [
    "def naive_Bayes(x, X, Y): ## 这里为了后面好写，把所有的值都统计了\n",
    "    N, n = X.shape ## N样本数量，n属性个数\n",
    "    k = np.max(Y) + 1\n",
    "    Sx = np.max(X, axis=0) + 1\n",
    "    CX_Y = [] ## 所有条件的计数\n",
    "    CY = np.zeros(k) ## 所有先验的计数\n",
    "    \n",
    "    for i in range(k):\n",
    "        CY[i] = np.count_nonzero(Y[:,0]==i)\n",
    "    for i in range(n): ## 每个属性\n",
    "        x_y = np.zeros((k, Sx[i]))\n",
    "        for j in range(k): ## 每个y值\n",
    "            t = X[np.where(Y[:,0]==j)[0]]\n",
    "            for l in range(Sx[i]):\n",
    "                x_y[j,l] = np.count_nonzero(t[:,i]==l)\n",
    "        CX_Y.append(x_y)\n",
    "    \n",
    "    Py_x = np.zeros(k)\n",
    "    for i in range(k):\n",
    "        Py_x[i] = 1.\n",
    "        for j in range(n):\n",
    "            Py_x[i] = Py_x[i] * (CX_Y[j][i, x[j]] / CY[i])\n",
    "        Py_x[i] = Py_x[i] * (CY[i] / N)\n",
    "    ri = np.argmax(Py_x)\n",
    "    return ri, Py_x[ri]"
   ]
  },
  {
   "cell_type": "code",
   "execution_count": 3,
   "metadata": {},
   "outputs": [],
   "source": [
    "X = np.array([\n",
    "    [0,0],\n",
    "    [0,1],\n",
    "    [0,1],\n",
    "    [0,0],\n",
    "    [0,0],\n",
    "    [1,0],\n",
    "    [1,1],\n",
    "    [1,1],\n",
    "    [1,2],\n",
    "    [1,2],\n",
    "    [2,2],\n",
    "    [2,1],\n",
    "    [2,1],\n",
    "    [2,2],\n",
    "    [2,2]\n",
    "])\n",
    "Y = np.array([\n",
    "    [0],\n",
    "    [0],\n",
    "    [1],\n",
    "    [1],\n",
    "    [0],\n",
    "    [0],\n",
    "    [0],\n",
    "    [1],\n",
    "    [1],\n",
    "    [1],\n",
    "    [1],\n",
    "    [1],\n",
    "    [1],\n",
    "    [1],\n",
    "    [0]\n",
    "])"
   ]
  },
  {
   "cell_type": "code",
   "execution_count": 4,
   "metadata": {},
   "outputs": [
    {
     "data": {
      "text/plain": [
       "(0, 0.06666666666666667)"
      ]
     },
     "execution_count": 4,
     "metadata": {},
     "output_type": "execute_result"
    }
   ],
   "source": [
    "naive_Bayes(np.array([1,0]), X, Y)"
   ]
  },
  {
   "cell_type": "markdown",
   "metadata": {},
   "source": [
    "## 拉普拉斯平滑"
   ]
  },
  {
   "cell_type": "code",
   "execution_count": 5,
   "metadata": {},
   "outputs": [],
   "source": [
    "def naive_Bayes_Laplace(x, X, Y, lam): ## 这里为了后面好写，把所有的值都统计了\n",
    "    N, n = X.shape ## N样本数量，n属性个数\n",
    "    k = np.max(Y) + 1\n",
    "    Sx = np.max(X, axis=0) + 1\n",
    "    CX_Y = [] ## 所有条件的计数\n",
    "    CY = np.zeros(k) ## 所有先验的计数\n",
    "    \n",
    "    for i in range(k):\n",
    "        CY[i] = len(np.where(Y[:,0]==i)[0])\n",
    "    for i in range(n): ## 每个属性\n",
    "        x_y = np.zeros((k, Sx[i]))\n",
    "        for j in range(k): ## 每个y值\n",
    "            t = X[np.where(Y[:,0]==j)[0]]\n",
    "            for l in range(Sx[i]):\n",
    "                x_y[j,l] = len(np.where(t[:,i]==l)[0])\n",
    "        CX_Y.append(x_y)\n",
    "    \n",
    "    Py_x = np.zeros(k)\n",
    "    for i in range(k):\n",
    "        Py_x[i] = 1.\n",
    "        for j in range(n):\n",
    "            Py_x[i] = Py_x[i] * ((CX_Y[j][i, x[j]] + lam) / (CY[i] + Sx[j] * lam))\n",
    "        Py_x[i] = Py_x[i] * ((CY[i] + lam) / (N + k * lam))\n",
    "    ri = np.argmax(Py_x)\n",
    "    return ri, Py_x[ri]"
   ]
  },
  {
   "cell_type": "code",
   "execution_count": 6,
   "metadata": {},
   "outputs": [
    {
     "data": {
      "text/plain": [
       "(0, 0.061002178649237467)"
      ]
     },
     "execution_count": 6,
     "metadata": {},
     "output_type": "execute_result"
    }
   ],
   "source": [
    "naive_Bayes_Laplace(np.array([1,0]), X, Y, 1.)"
   ]
  },
  {
   "cell_type": "markdown",
   "metadata": {},
   "source": [
    "最后说下这个最小期望误差与后验最大化的关系\n",
    "\n",
    "对于一个分类问题其期望误差为\n",
    "$$\n",
    "\\begin{split}\n",
    "R_{emp} & = E_{X\\times Y}[L(Y,f(X))] \\\\\n",
    "    & = \\iint L(y, f(x)) p(y,x)\\mathrm{d}y\\mathrm{d}x \\\\\n",
    "    & = \\iint L(y, f(x)) p(y\\mid x)\\mathrm{d}y \\cdot p(x)\\mathrm{d}x \\\\\n",
    "    & = \\int \\sum_c L(c, f(x))p(c\\mid x) \\cdot p(x)\\mathrm{d}x \\\\\n",
    "    & = E_X[\\sum_c L(c, f(X))P(c\\mid X)]\n",
    "\\end{split}\n",
    "$$\n",
    "故对应于每一个$x$，\n",
    "$$\n",
    "R_{emp}(x) = \\sum_c L(c, f(x))P(c\\mid x)\n",
    "$$\n",
    "由于对于分类问题\n",
    "$$\n",
    "L(c,f(x)) = \\left\\{\\begin{matrix}\n",
    "    1 & c \\neq f(x)\\\\ \n",
    "    0 & c = f(x)\n",
    "    \\end{matrix}\\right.\n",
    "$$\n",
    "故\n",
    "$$\n",
    "\\begin{split}\n",
    "f(x) & = \\arg\\underset{c}{\\min} \\sum_c L(c, f(x))P(c\\mid x) \\\\\n",
    "    & = \\arg\\underset{c}{\\min} \\sum_c P(y\\neq c\\mid x) \\quad //f(x) = c \\\\\n",
    "    & = \\arg\\underset{c}{\\min} \\Big(1 - P(y\\neq c\\mid x)\\Big) \\\\\n",
    "    & = \\arg\\underset{c}{\\max} P(y = c \\mid x)\n",
    "\\end{split}\n",
    "$$"
   ]
  },
  {
   "cell_type": "code",
   "execution_count": null,
   "metadata": {},
   "outputs": [],
   "source": []
  }
 ],
 "metadata": {
  "kernelspec": {
   "display_name": "Python 3",
   "language": "python",
   "name": "python3"
  },
  "language_info": {
   "codemirror_mode": {
    "name": "ipython",
    "version": 3
   },
   "file_extension": ".py",
   "mimetype": "text/x-python",
   "name": "python",
   "nbconvert_exporter": "python",
   "pygments_lexer": "ipython3",
   "version": "3.6.5"
  }
 },
 "nbformat": 4,
 "nbformat_minor": 2
}
