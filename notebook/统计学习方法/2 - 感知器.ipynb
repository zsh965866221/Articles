{
 "cells": [
  {
   "cell_type": "code",
   "execution_count": 1,
   "metadata": {},
   "outputs": [],
   "source": [
    "%matplotlib inline\n",
    "import numpy as np\n",
    "from matplotlib import pyplot as plt"
   ]
  },
  {
   "cell_type": "code",
   "execution_count": 2,
   "metadata": {},
   "outputs": [],
   "source": [
    "epsilon = 1e-5"
   ]
  },
  {
   "cell_type": "markdown",
   "metadata": {},
   "source": [
    "# 感知机"
   ]
  },
  {
   "cell_type": "markdown",
   "metadata": {},
   "source": [
    "## 原始形式\n",
    "\n",
    "输入空间$\\mathcal{X}\\in \\mathbf{R}^n$，输出空间$\\mathcal{Y}\\in \\{+1,-1\\}$，映射如下\n",
    "$$f(x) = \\text{sign}(w\\cdot x+b)$$\n",
    "有一点需要注意的是**感知机假设数据集是线性可分的**，也就是会有一个分割超平面会把数据集完全正确的分隔开\n",
    "\n",
    "输入空间中一点$x_0$到超平面的距离为\n",
    "$$\\frac{|w\\cdot x_0 + b|}{\\|w\\|}$$\n",
    "由于在超平面下的分类结果为\n",
    "$$\n",
    "y_i = \\left\\{\\begin{matrix}\n",
    "+1 & w\\cdot x_i +b > 0 \\\\ \n",
    "-1 & w\\cdot x_i +b < 0\n",
    "\\end{matrix}\\right.\n",
    "$$\n",
    "误分类点可判定为$-y_i(w\\cdot x_i +b)>0$\n",
    "损失函数设定为误分类点的集合为$M$到超平面的总距离为，\n",
    "$$\n",
    "\\sum_{x_i\\in M}\\frac{-y_i(w\\cdot x_i +b)}{\\|w\\|}\n",
    "$$\n",
    "不考虑$\\frac{1}{\\|w\\|}$，损失函数为\n",
    "$$\n",
    "L(w,b) = -\\sum_{x_i\\in M}y_i(w\\cdot x_i+b)\n",
    "$$\n",
    "最小化需要对其求梯度\n",
    "$$\n",
    "\\nabla_wL(w,b) = -\\sum_{x_i\\in M}y_ix_i \\\\\n",
    "\\nabla_bL(w,b) = -\\sum_{x_i\\in M}y_i\n",
    "$$\n",
    "\n",
    "进行梯度下降的时候需要注意，每次只选取一个误分类点$(x_i,y_i)$进行梯度下降\n",
    "$$\n",
    "w \\leftarrow w+\\eta y_ix_i \\\\\n",
    "b \\leftarrow b + \\eta y_i\n",
    "$$\n",
    "\n",
    "**如果原始数据集线性不可分，会陷入无限循环**"
   ]
  },
  {
   "cell_type": "code",
   "execution_count": 3,
   "metadata": {},
   "outputs": [],
   "source": [
    "def perceptron(X, Y, eta):\n",
    "    w = np.zeros(X.shape[1])\n",
    "    b = 0\n",
    "    M = []\n",
    "    def get_M():\n",
    "        M.clear()\n",
    "        for index, (x, y) in enumerate(zip(X, Y)):\n",
    "            if y*(np.dot(w, x) + b) <= 0:\n",
    "                M.append(index)\n",
    "        return M\n",
    "    while len(get_M()) > 0:\n",
    "        i = np.random.choice(M)\n",
    "        x, y = X[i], Y[i]\n",
    "        w = w + eta * y * x\n",
    "        b = b + eta * y\n",
    "    return w, b"
   ]
  },
  {
   "cell_type": "markdown",
   "metadata": {},
   "source": [
    "### 例2.1"
   ]
  },
  {
   "cell_type": "code",
   "execution_count": 4,
   "metadata": {},
   "outputs": [
    {
     "data": {
      "text/plain": [
       "(array([1., 0.]), array([-2]))"
      ]
     },
     "execution_count": 4,
     "metadata": {},
     "output_type": "execute_result"
    }
   ],
   "source": [
    "## 例2.1\n",
    "X = np.array([[3,3],[4,3],[1,1]])\n",
    "Y = np.array([[1], [1], [-1]])\n",
    "w, b = perceptron(X, Y, 1)\n",
    "w, b"
   ]
  },
  {
   "cell_type": "code",
   "execution_count": 5,
   "metadata": {},
   "outputs": [
    {
     "data": {
      "text/plain": [
       "[0, 6, 0, 6]"
      ]
     },
     "execution_count": 5,
     "metadata": {},
     "output_type": "execute_result"
    },
    {
     "data": {
      "image/png": "[encoded data removed]",
      "text/plain": [
       "<Figure size 432x288 with 1 Axes>"
      ]
     },
     "metadata": {},
     "output_type": "display_data"
    }
   ],
   "source": [
    "postive_X = X[np.where(Y>0)[0]]\n",
    "plt.plot(postive_X[:,0], postive_X[:,1], 'ro')\n",
    "negative_X = X[np.where(Y<0)[0]]\n",
    "plt.plot(negative_X[:,0], negative_X[:,1], 'bo')\n",
    "aX = np.arange(0, 6, 0.1)\n",
    "aY = (-b - w[0]*aX)/(w[1]+epsilon)\n",
    "plt.plot(aX, aY)\n",
    "plt.axis([0,6, 0, 6])"
   ]
  },
  {
   "cell_type": "markdown",
   "metadata": {},
   "source": [
    "## 算法收敛性\n",
    "\n",
    "需要证明算法的迭代次数存在上界，$P_{31}$，经过有限次迭代可以得到一个将训练数据集完全正确划分的分离超平面。这个证明是Novikoff在1962年给出的，收敛证明很重要\n",
    "\n",
    "> **定理 2.1 (Novikoff)**  设训练数据集$T=\\{(x_1,y_1),(x_2,y_2),\\cdots, (x_N,y_N)\\}$是线性可分的，其中$x_i \\in \\mathcal{X}=\\mathbf{R}^n$，$y_i\\in \\{-1, +1\\}$，$i = 1,2,\\cdots,N$，则\n",
    " - 存在满足条件$\\|\\hat{w}_{\\text{opt}}\\|=1$的超平面$\\hat{w}_{\\text{opt}}\\cdot \\hat{x} = w_{\\text{opt}}\\cdot x + b_{\\text{opt}}=0$将训练数据集完全正确分开；且满足$\\gamma>0$，对所有$i=1,2,\\cdots, N$\n",
    " $$\n",
    " y_i(\\hat{w}_{\\text{opt}}\\cdot \\hat{x}_i) = y_i(w_{\\text{opt}}\\cdot x_i + b_{\\text{opt}}) \\geq \\gamma\n",
    " $$\n",
    " - 令$R = \\underset{1\\le i\\le N}{\\max}\\|\\hat{x}_i\\|$，则感知器在训练数据集上的误分类次数$k$满足不等式\n",
    " $$k\\le \\left( \\frac{R}{\\gamma} \\right)^2$$\n",
    " \n",
    "证明：\n",
    " - 由于训练数据集是线性可分的，所以存在超平面使训练集完全正确的分开，可取该超平面为$\\hat{w}_{\\text{opt}}\\cdot \\hat{x} = w_{\\text{opt}}\\cdot x + b_{\\text{opt}}=0$，并满足$\\|\\hat{w}_{\\text{opt}}\\|=1$，故对所有的训练数据集$i=1,2,\\cdots , N$\n",
    " $$y_i(\\hat{w}_{\\text{opt}}\\cdot \\hat{x}_i) = y_i(w_{\\text{opt}}\\cdot x_i + b_{\\text{opt}}) = 0$$\n",
    " 所以存在$$\\gamma = \\underset{i}{\\min}\\{y_i(w_{\\text{opt}}\\cdot x_i + b_{\\text{opt}})\\}$$使\n",
    " $$\n",
    " y_i(\\hat{w}_{\\text{opt}}\\cdot \\hat{x}_i) = y_i(w_{\\text{opt}}\\cdot x_i + b_{\\text{opt}}) \\geq \\gamma\n",
    " $$\n",
    " - 设$\\hat{w}_{k-1} = (w_{k-1}^T,b_{k-1})^T$表示第$k-1$次迭代得到的参数，并且第k次迭代中根据判别条件得到的误分类样例为$(x_i,y_i)$，则$w$和$b$的更新为\n",
    " $$\n",
    " \\begin{split}\n",
    " w_k & \\leftarrow w_{k-1} + \\eta y_i x_i \\\\\n",
    " b_k & \\leftarrow b_{k-1} + \\eta y_i\n",
    " \\end{split}\n",
    " $$\n",
    " 即\n",
    " $$\\hat{w}_k = \\hat{w}_{k-1} + \\eta y_i \\hat{x}_i$$\n",
    " 现在推倒两个不等式：\n",
    "     - (1) $$\\hat{w}_k \\cdot \\hat{w}_{\\text{opt}} \\geq k\\eta\\gamma$$\n",
    "     推倒：\n",
    "     $$\n",
    "     \\begin{split}\n",
    "        \\hat{w}_k \\cdot \\hat{w}_{\\text{opt}} & = (\\hat{w}_{k-1} + \\eta y_i \\hat{x}_i)\\cdot \\hat{w}_{\\text{opt}} \\\\\n",
    "            & = \\hat{w}_{k-1} \\cdot \\hat{w}_{\\text{opt}} + \\eta y_i \\hat{w}_{\\text{opt}} \\cdot \\hat{x}_i \\\\\n",
    "            & \\geq \\hat{w}_{k-1}\\cdot \\hat{w}_{\\text{opt}} + \\eta\\gamma \\\\\n",
    "            & \\geq \\hat{w}_{k-2}\\cdot \\hat{w}_{\\text{opt}} + 2\\eta\\gamma \\\\\n",
    "            & \\geq \\cdots\\\\\n",
    "            & \\geq k\\eta \\gamma\n",
    "     \\end{split}\n",
    "     $$\n",
    "     - (2) $$\\|\\hat{w}_k\\|^2\\le k\\eta^2R^2$$\n",
    "     推倒：\n",
    "     $$\n",
    "     \\begin{split}\n",
    "    \\|\\hat{w}_k\\|^2 & = \\| \\hat{w}_{k-1} + \\eta y_i\\hat{x}_i\\|^2 \\\\\n",
    "        & = \\|\\hat{w}_{k-1}\\|^2 + 2\\eta y_i\\hat{w}_{k-1}\\hat{x}_i + \\eta^2\\|\\hat{x}_i\\|^2 \\\\\n",
    "        & \\le \\|\\hat{w}_{k-1}\\|^2 + \\eta^2\\|x_i\\|^2 \\quad //\\text{对于$\\hat{w}_{k-1}$，$x_i,y_i$是误分类，$y_i\\hat{w}_{k-1}\\hat{x}_i\\le 0$} \\\\\n",
    "        & \\le \\|\\hat{w}_{k-1}\\|^2 + \\eta^2R^2 \\\\\n",
    "        & \\le \\cdots \\\\\n",
    "        & \\le k\\eta^2R^2\n",
    "    \\end{split}\n",
    "     $$\n",
    "结合上面几个不等式：\n",
    "$$k\\eta \\gamma \\le \\hat{w}_k \\cdot \\hat{w}_{\\text{opt}} \\le \\|\\hat{w}_k\\| \\|\\hat{w}_{\\text{opt}}\\| \\le \\sqrt{k}\\eta R$$\n",
    "这个地方用了**柯西-施瓦茨不等式**的向量内积形式：$\\|<a,b>\\|\\le \\|a\\|\\|b\\|$，并且$\\|\\hat{w}_{\\text{opt}}\\| = 1$\n",
    "整理得到\n",
    "$$\n",
    "k^2\\gamma^2 \\le kR^2 \\\\\n",
    "k \\le \\left( \\frac{R}{\\gamma} \\right)^2\n",
    "$$"
   ]
  },
  {
   "cell_type": "markdown",
   "metadata": {},
   "source": [
    "---\n",
    "## 对偶形式\n",
    "\n",
    "这个对偶形式的思想异常重要\n",
    "> 对偶形式的基本思想为，将$w$和$b$表示为实例$x_i$和标记$y_i$的线性组合的形式，通过求解其系数而求得$w$和$b$。\n",
    "\n",
    "书上这个地方给出了一种直观上的对偶问题的解释，而SVM中的对偶形式是由**拉格朗日乘子法**求出来的，但朗格朗日乘子法的核心思想也是：所构建的超平面需要满足在训练数据集上的约束，利用朗格朗日乘子法把该约束加到损失函数里面，可以求出来原始原始参数的用训练数据集的表示形式（这里是线性组合，SVM也是线性组合），把参数带入到损失函数里面，得到对偶形式\n",
    "\n",
    "对于每次的误分类点$(x_i,y_i)$，$w,b$的迭代为\n",
    "$$\n",
    "w \\leftarrow w + \\eta y_i x_i \\\\\n",
    "b \\leftarrow b + \\eta y_i\n",
    "$$\n",
    "可把这个过程看成训练过程中的每次选取的误分类点均对其有影响，假设每个数据点误分类次数为$\\alpha_j$，则该点的总影响为$w' = \\eta \\alpha_j y_j x_j$，则上式变为其对偶形式\n",
    "$$\n",
    "w = \\sum_{i=1}^N \\eta \\alpha y_i x_i \\\\\n",
    "b = \\sum_{i=1}^N \\eta \\alpha y_i\n",
    "$$\n",
    "故在迭代过程中每次选取误分类点$(x_i,y_i)$，对应的更新方程为\n",
    "$$\n",
    "\\begin{split}\n",
    "\\alpha_i & \\leftarrow \\alpha_i + 1 \\quad //\\text{数据点$(x_i,y_i)$误分类次数增加一次} \\\\\n",
    "b & \\leftarrow b + \\eta y_i\n",
    "\\end{split}\n",
    "$$\n",
    "\n",
    "> $\\alpha_i$表示第$i$个实例点由于误分而进行更新的次数，**实例点更新次数越多，意味着它距离分离超平面越近**，也就越难正确分类。换句话说，这样的实例对学习结果影响最大"
   ]
  },
  {
   "cell_type": "code",
   "execution_count": 6,
   "metadata": {},
   "outputs": [],
   "source": [
    "def perceptron_duality(X, Y, eta):\n",
    "    alpha = np.zeros((X.shape[0], 1)) ## 整个过程中每个样本误分类的次数n_i\n",
    "    b = 0\n",
    "    M = []\n",
    "    def get_M():\n",
    "        M.clear()\n",
    "        w = eta * np.sum(alpha * Y * X, axis=0)\n",
    "        for index, (x, y) in enumerate(zip(X, Y)):\n",
    "            if y*(np.dot(w, x) + b) <= 0:\n",
    "                M.append(index)\n",
    "        return M\n",
    "    while len(get_M()) > 0:\n",
    "        i = np.random.choice(M)\n",
    "        x, y = X[i], Y[i]\n",
    "        alpha[i] = alpha[i] + 1\n",
    "        b = b + eta * y\n",
    "    w = eta * np.sum(alpha * Y * X, axis=0)\n",
    "    return w, b, alpha"
   ]
  },
  {
   "cell_type": "code",
   "execution_count": 7,
   "metadata": {},
   "outputs": [
    {
     "data": {
      "text/plain": [
       "(array([1., 1.]), array([-3]))"
      ]
     },
     "execution_count": 7,
     "metadata": {},
     "output_type": "execute_result"
    }
   ],
   "source": [
    "## 例2.2\n",
    "X = np.array([[3,3],[4,3],[1,1]])\n",
    "Y = np.array([[1], [1], [-1]])\n",
    "w, b, alpha = perceptron_duality(X, Y, 1)\n",
    "w, b"
   ]
  },
  {
   "cell_type": "code",
   "execution_count": 8,
   "metadata": {},
   "outputs": [
    {
     "data": {
      "text/plain": [
       "array([[2.],\n",
       "       [0.],\n",
       "       [5.]])"
      ]
     },
     "execution_count": 8,
     "metadata": {},
     "output_type": "execute_result"
    },
    {
     "data": {
      "image/png": "[encoded data removed]",
      "text/plain": [
       "<Figure size 432x288 with 1 Axes>"
      ]
     },
     "metadata": {},
     "output_type": "display_data"
    }
   ],
   "source": [
    "postive_X = X[np.where(Y>0)[0]]\n",
    "plt.plot(postive_X[:,0], postive_X[:,1], 'ro')\n",
    "negative_X = X[np.where(Y<0)[0]]\n",
    "plt.plot(negative_X[:,0], negative_X[:,1], 'bo')\n",
    "aX = np.arange(0, 6, 0.1)\n",
    "aY = (-b - w[0]*aX)/(w[1]+epsilon)\n",
    "plt.axis([0,6, 0, 6])\n",
    "plt.plot(aX, aY)\n",
    "alpha"
   ]
  },
  {
   "cell_type": "code",
   "execution_count": 9,
   "metadata": {},
   "outputs": [],
   "source": [
    "def perceptron_duality_gram(X, Y, eta):\n",
    "    alpha = np.zeros((X.shape[0], 1)) ## 整个过程中每个样本误分类的次数n_i\n",
    "    b = 0\n",
    "    M = []\n",
    "    Gram_Matrix = np.dot(X, X.T)\n",
    "    def get_M():\n",
    "        M.clear()\n",
    "        for index, (x, y) in enumerate(zip(X, Y)):\n",
    "            if y*(eta * np.sum(Gram_Matrix[index, :][:, np.newaxis] * Y * alpha) + b) <= 0:\n",
    "                M.append(index)\n",
    "        return M\n",
    "    while len(get_M()) > 0:\n",
    "        i = np.random.choice(M)\n",
    "        x, y = X[i], Y[i]\n",
    "        alpha[i] = alpha[i] + 1\n",
    "        b = b + eta * y\n",
    "    w = eta * np.sum(alpha * Y * X, axis=0)\n",
    "    return w, b, alpha"
   ]
  },
  {
   "cell_type": "code",
   "execution_count": 10,
   "metadata": {},
   "outputs": [
    {
     "data": {
      "text/plain": [
       "(array([1., 0.]), array([-2]))"
      ]
     },
     "execution_count": 10,
     "metadata": {},
     "output_type": "execute_result"
    }
   ],
   "source": [
    "## 例2.2\n",
    "X = np.array([[3,3],[4,3],[1,1]])\n",
    "Y = np.array([[1], [1], [-1]])\n",
    "w, b, alpha = perceptron_duality_gram(X, Y, 1)\n",
    "w, b"
   ]
  },
  {
   "cell_type": "code",
   "execution_count": 11,
   "metadata": {},
   "outputs": [
    {
     "data": {
      "text/plain": [
       "array([[0.],\n",
       "       [1.],\n",
       "       [3.]])"
      ]
     },
     "execution_count": 11,
     "metadata": {},
     "output_type": "execute_result"
    },
    {
     "data": {
      "image/png": "[encoded data removed]",
      "text/plain": [
       "<Figure size 432x288 with 1 Axes>"
      ]
     },
     "metadata": {},
     "output_type": "display_data"
    }
   ],
   "source": [
    "postive_X = X[np.where(Y>0)[0]]\n",
    "plt.plot(postive_X[:,0], postive_X[:,1], 'ro')\n",
    "negative_X = X[np.where(Y<0)[0]]\n",
    "plt.plot(negative_X[:,0], negative_X[:,1], 'bo')\n",
    "aX = np.arange(0, 6, 0.1)\n",
    "aY = (-b - w[0]*aX)/(w[1]+epsilon)\n",
    "plt.axis([0,6, 0, 6])\n",
    "plt.plot(aX, aY)\n",
    "alpha"
   ]
  },
  {
   "cell_type": "markdown",
   "metadata": {},
   "source": [
    "## 柯西-施瓦茨不等式"
   ]
  },
  {
   "cell_type": "markdown",
   "metadata": {},
   "source": [
    "有$N$维向量$a$,$b$，其内积满足不等式\n",
    "$$\\|<a,b>\\| \\le \\|a\\|\\|b\\|$$\n",
    "展开\n",
    "$$\\left(\\sum_{i=1}^N a_ib_i\\right)^2 \\le \\left(\\sum_{i=1}^N a_i^2\\right)\\left(\\sum_{i=1}^N b_i^2\\right)$$\n",
    "当且仅当$a,b$共线时等式成立，网上一共给出了三种证法"
   ]
  },
  {
   "cell_type": "markdown",
   "metadata": {},
   "source": [
    "### 证法1\n",
    "$a,b$共线需要满足$a_ix+b_i=0$，对所有的$a,b$成立，让\n",
    "$$\n",
    "\\begin{split}\n",
    "\\sum_{i=1}^N (a_ix+b_i)^2 & = \\sum_{i=1}^N a_i^2x^2 + 2a_ib_ix + b_i^2 \\\\\n",
    "    & = x^2\\sum_{i=1}^N a_i^2 + x\\sum_{i=1}^N a_ib_i + \\sum_{i=1}^N b_i^2 \\\\\n",
    "    & = Ax^2 + 2Bx + C \\\\\n",
    "    & \\geq 0\n",
    "\\end{split}\n",
    "$$\n",
    "当$A=0$，所有$a_i=0$，此时不等式成立\n",
    "\n",
    "当$A>0$，因为$Ax^2 + 2Bx + C \\geq 0$恒成立，所以$B^2-AC\\le 0$成立（极值点：$(-\\frac{B}{A}, AC-B^2)$）"
   ]
  },
  {
   "cell_type": "markdown",
   "metadata": {},
   "source": [
    "### 证法2\n",
    "证法2利用的二次方程组无解或有唯一解时判别式小于等于0，故\n",
    "$$\n",
    "\\begin{split}\n",
    "(2B)^2-4AC & = 4B^2-4AC \\le 0 \\\\\n",
    "    B^2 - AC & \\le 0\n",
    "\\end{split}\n",
    "$$"
   ]
  }
 ],
 "metadata": {
  "kernelspec": {
   "display_name": "Python 3",
   "language": "python",
   "name": "python3"
  },
  "language_info": {
   "codemirror_mode": {
    "name": "ipython",
    "version": 3
   },
   "file_extension": ".py",
   "mimetype": "text/x-python",
   "name": "python",
   "nbconvert_exporter": "python",
   "pygments_lexer": "ipython3",
   "version": "3.6.5"
  }
 },
 "nbformat": 4,
 "nbformat_minor": 2
}
