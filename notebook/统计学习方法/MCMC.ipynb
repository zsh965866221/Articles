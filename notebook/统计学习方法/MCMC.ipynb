{
 "cells": [
  {
   "cell_type": "markdown",
   "metadata": {},
   "source": [
    "# MCMC"
   ]
  },
  {
   "cell_type": "code",
   "execution_count": 1,
   "metadata": {},
   "outputs": [],
   "source": [
    "%matplotlib inline\n",
    "import numpy as np\n",
    "from matplotlib import pyplot as plt"
   ]
  },
  {
   "cell_type": "markdown",
   "metadata": {},
   "source": [
    "## 蒙特卡洛 均值方法 求积分\n",
    "\n",
    "利用一个容易进行抽样的分布，根据大数定理可以对函数积分进行估计\n",
    "$$\n",
    "\\begin{split}\n",
    "\\int_a^b f(x)\\mathrm{d}x & = \\int_a^b p(x)\\frac{f(x)}{p(x)}\\mathrm{d}x \\\\\n",
    "    & = E_{p(x)}\\Big[\\frac{f(x)}{p(x)}\\Big] \\\\\n",
    "    & = \\frac{1}{N} \\sum_{i=1}^N \\frac{f(x_i)}{p(x_i)} \\quad // x_i \\sim p(x)\n",
    "\\end{split}\n",
    "$$"
   ]
  },
  {
   "cell_type": "code",
   "execution_count": 2,
   "metadata": {},
   "outputs": [],
   "source": [
    "def f(x):\n",
    "    return 0.3 * np.exp(-(x - 0.3) ** 2) + 0.7 * np.exp(- (x - 2.) ** 2 / 0.3)"
   ]
  },
  {
   "cell_type": "code",
   "execution_count": 3,
   "metadata": {},
   "outputs": [],
   "source": [
    "## 蒙特卡洛 均值法 求f的积分\n",
    "def MC(f, low, high, size):\n",
    "    z = np.random.uniform(low=low, high=high, size=size)\n",
    "    return np.sum(f(z) * (high - low)) / size"
   ]
  },
  {
   "cell_type": "code",
   "execution_count": 4,
   "metadata": {},
   "outputs": [
    {
     "data": {
      "text/plain": [
       "1.2096264268483048"
      ]
     },
     "execution_count": 4,
     "metadata": {},
     "output_type": "execute_result"
    }
   ],
   "source": [
    "Int_f = MC(f, -2, 4, 10**6)\n",
    "Int_f"
   ]
  },
  {
   "cell_type": "markdown",
   "metadata": {},
   "source": [
    "## 拒绝采样"
   ]
  },
  {
   "cell_type": "code",
   "execution_count": 5,
   "metadata": {},
   "outputs": [],
   "source": [
    "size = 10**4\n",
    "mean = 1.4\n",
    "sigma = 1.2\n",
    "k = 3"
   ]
  },
  {
   "cell_type": "code",
   "execution_count": 6,
   "metadata": {},
   "outputs": [],
   "source": [
    "## 为了能够使后面的可视化对其曲线，对f(x)进行归一化，用的上面的均值方法\n",
    "def p(x):\n",
    "    return f(x) / Int_f\n",
    "def q(x):\n",
    "    return 1 / (sigma * np.sqrt(2 * np.pi)) * np.exp(- (x - mean) ** 2 / (2 * sigma ** 2))\n",
    "def sample_q():\n",
    "    return np.random.normal(loc=mean, scale=sigma)"
   ]
  },
  {
   "cell_type": "code",
   "execution_count": 7,
   "metadata": {},
   "outputs": [],
   "source": [
    "def reject_sampling(p, q, sample_q, k, size):\n",
    "    res = []\n",
    "    it = 0\n",
    "    ti = 0\n",
    "    while(it < size):\n",
    "        z = sample_q()\n",
    "        qz = q(z)\n",
    "        u = np.random.uniform(low=0,high=k*qz)\n",
    "        pz = p(z)\n",
    "        if u < pz:\n",
    "            res.append(z)\n",
    "            it += 1\n",
    "        ti += 1\n",
    "    return np.array(res), ti"
   ]
  },
  {
   "cell_type": "code",
   "execution_count": 8,
   "metadata": {},
   "outputs": [
    {
     "data": {
      "text/plain": [
       "30301"
      ]
     },
     "execution_count": 8,
     "metadata": {},
     "output_type": "execute_result"
    }
   ],
   "source": [
    "sample, ti = reject_sampling(p, q, sample_q, k, size)\n",
    "ti"
   ]
  },
  {
   "cell_type": "code",
   "execution_count": 9,
   "metadata": {},
   "outputs": [
    {
     "data": {
      "text/plain": [
       "[<matplotlib.lines.Line2D at 0x20e7489e668>]"
      ]
     },
     "execution_count": 9,
     "metadata": {},
     "output_type": "execute_result"
    },
    {
     "data": {
      "image/png": "[encoded data removed]",
      "text/plain": [
       "<Figure size 432x288 with 1 Axes>"
      ]
     },
     "metadata": {},
     "output_type": "display_data"
    }
   ],
   "source": [
    "count, bins, ignored = plt.hist(sample, bins=300,density=True)\n",
    "plt.plot(bins, p(bins))\n",
    "plt.plot(bins, k * q(bins))"
   ]
  },
  {
   "cell_type": "code",
   "execution_count": null,
   "metadata": {},
   "outputs": [],
   "source": []
  },
  {
   "cell_type": "markdown",
   "metadata": {},
   "source": [
    "## MCMC"
   ]
  },
  {
   "cell_type": "code",
   "execution_count": 17,
   "metadata": {},
   "outputs": [],
   "source": [
    "def q(y, x): # q(y|x)\n",
    "    return 1/(5. - (-2.5))\n",
    "    \n",
    "def sample_q(x):\n",
    "    return np.random.uniform(low=-2.5, high=5.)"
   ]
  },
  {
   "cell_type": "code",
   "execution_count": 18,
   "metadata": {},
   "outputs": [],
   "source": [
    "def mcmc(p, q, sample_q, size, base_iter=10**2):\n",
    "    res = []\n",
    "    it = 0\n",
    "    x = 0.\n",
    "    ti = 0\n",
    "    countable = False\n",
    "    while it < size + base_iter:\n",
    "        y = sample_q(x)\n",
    "        u = np.random.uniform(low=0, high=1)\n",
    "        if u <= p(y)*q(x, y):\n",
    "            x = y\n",
    "            it += 1\n",
    "            res.append(x)\n",
    "            if it >= base_iter:\n",
    "                countable = True\n",
    "        if countable is True:\n",
    "            ti += 1\n",
    "    return np.array(res)[base_iter:], ti"
   ]
  },
  {
   "cell_type": "code",
   "execution_count": 19,
   "metadata": {},
   "outputs": [
    {
     "data": {
      "text/plain": [
       "[<matplotlib.lines.Line2D at 0x20e76f3c240>]"
      ]
     },
     "execution_count": 19,
     "metadata": {},
     "output_type": "execute_result"
    },
    {
     "data": {
      "image/png": "[encoded data removed]",
      "text/plain": [
       "<Figure size 432x288 with 1 Axes>"
      ]
     },
     "metadata": {},
     "output_type": "display_data"
    }
   ],
   "source": [
    "sample, ti = mcmc(p, q, sample_q, 10**4)\n",
    "count, bins, ignored = plt.hist(sample, bins=300,density=True)\n",
    "plt.plot(bins, p(bins))"
   ]
  },
  {
   "cell_type": "code",
   "execution_count": 20,
   "metadata": {},
   "outputs": [
    {
     "data": {
      "text/plain": [
       "556663"
      ]
     },
     "execution_count": 20,
     "metadata": {},
     "output_type": "execute_result"
    }
   ],
   "source": [
    "ti"
   ]
  },
  {
   "cell_type": "code",
   "execution_count": 21,
   "metadata": {},
   "outputs": [],
   "source": [
    "def Metropolis_Hastings(p, q, sample_q, size, base_iter=10**2):\n",
    "    res = []\n",
    "    it = 0\n",
    "    x = 0.\n",
    "    ti = 0\n",
    "    countable = False\n",
    "    while it < size + base_iter:\n",
    "        y = sample_q(x)\n",
    "        u = np.random.uniform(low=0., high=1)\n",
    "        a = min(p(y) / p(x) * q(y, x) / q(x, y), 1)\n",
    "        if u < a:\n",
    "            x = y\n",
    "            it += 1\n",
    "            res.append(x)\n",
    "            if it >= base_iter:\n",
    "                countable = True\n",
    "        if countable is True:\n",
    "            ti += 1\n",
    "    return np.array(res)[base_iter:], ti"
   ]
  },
  {
   "cell_type": "code",
   "execution_count": 22,
   "metadata": {},
   "outputs": [
    {
     "data": {
      "text/plain": [
       "[<matplotlib.lines.Line2D at 0x20e772be0f0>]"
      ]
     },
     "execution_count": 22,
     "metadata": {},
     "output_type": "execute_result"
    },
    {
     "data": {
      "image/png": "[encoded data removed]",
      "text/plain": [
       "<Figure size 432x288 with 1 Axes>"
      ]
     },
     "metadata": {},
     "output_type": "display_data"
    }
   ],
   "source": [
    "sample, ti = Metropolis_Hastings(p, q, sample_q, 10**4, 10**2)\n",
    "count, bins, ignored = plt.hist(sample, bins=300,density=True)\n",
    "plt.plot(bins, p(bins))"
   ]
  },
  {
   "cell_type": "code",
   "execution_count": 23,
   "metadata": {},
   "outputs": [
    {
     "data": {
      "text/plain": [
       "27081"
      ]
     },
     "execution_count": 23,
     "metadata": {},
     "output_type": "execute_result"
    }
   ],
   "source": [
    "ti"
   ]
  },
  {
   "cell_type": "code",
   "execution_count": null,
   "metadata": {},
   "outputs": [],
   "source": []
  }
 ],
 "metadata": {
  "kernelspec": {
   "display_name": "Python 3",
   "language": "python",
   "name": "python3"
  },
  "language_info": {
   "codemirror_mode": {
    "name": "ipython",
    "version": 3
   },
   "file_extension": ".py",
   "mimetype": "text/x-python",
   "name": "python",
   "nbconvert_exporter": "python",
   "pygments_lexer": "ipython3",
   "version": "3.6.5"
  }
 },
 "nbformat": 4,
 "nbformat_minor": 2
}
